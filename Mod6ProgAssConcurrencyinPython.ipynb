{
 "cells": [
  {
   "cell_type": "code",
   "execution_count": 3,
   "id": "4162faad-9a8f-47f8-8266-43ae012f4688",
   "metadata": {},
   "outputs": [],
   "source": [
    "#13.1 Write the current date as a string to the text file today.txt.\n",
    "from datetime import date\n",
    "\n",
    "# Get today's date\n",
    "today = date.today()\n",
    "\n",
    "# Format the date as a string\n",
    "date_string = today.strftime(\"%Y-%m-%d\")\n",
    "\n",
    "# Write the date string to a file\n",
    "with open(\"today.txt\", \"w\") as file:\n",
    "    file.write(date_string)"
   ]
  },
  {
   "cell_type": "code",
   "execution_count": 5,
   "id": "e5836b9a-7421-47b5-9a8d-1e8b2a85218d",
   "metadata": {},
   "outputs": [
    {
     "name": "stdout",
     "output_type": "stream",
     "text": [
      "2024-12-11\n"
     ]
    }
   ],
   "source": [
    "#13.2 Read the text file today.txt into the string today_string.\n",
    "with open('today.txt', 'r') as file:\n",
    "    today_string = file.read()\n",
    "\n",
    "print(today_string)"
   ]
  },
  {
   "cell_type": "code",
   "execution_count": 7,
   "id": "dfcef8d1-465a-47f7-91a2-1502bfef85a8",
   "metadata": {},
   "outputs": [
    {
     "data": {
      "text/plain": [
       "time.struct_time(tm_year=2024, tm_mon=12, tm_mday=11, tm_hour=0, tm_min=0, tm_sec=0, tm_wday=2, tm_yday=346, tm_isdst=-1)"
      ]
     },
     "execution_count": 7,
     "metadata": {},
     "output_type": "execute_result"
    }
   ],
   "source": [
    "#13.3 Parse the date from today_string.\n",
    "import time\n",
    ">>> fmt = \"%Y-%m-%d\"\n",
    ">>> time.strptime(today_string, fmt)"
   ]
  },
  {
   "cell_type": "code",
   "execution_count": null,
   "id": "18c45613-886a-4a1f-8cb5-e0bd0d37ae79",
   "metadata": {},
   "outputs": [],
   "source": [
    "# 15.1 Use multiprocessing to create three separate processes. Make each one wait a random number of seconds \n",
    "#between zero and one, print the current time, and then exit\n",
    "import multiprocessing\n",
    "import time\n",
    "import random\n",
    "from datetime import datetime\n",
    "\n",
    "def worker(num):\n",
    "    sleep_time = random.random()\n",
    "    time.sleep(sleep_time)\n",
    "    now = datetime.now()\n",
    "    current_time = now.strftime(\"%H:%M:%S\")\n",
    "    print(\"Current Time =\", current_time)\n",
    "    \n",
    " for i in range(3):\n",
    "        p = multiprocessing.Process(target=worker, args=(i,))\n",
    "        p.start()\n",
    "     "
   ]
  }
 ],
 "metadata": {
  "kernelspec": {
   "display_name": "Python 3 (ipykernel)",
   "language": "python",
   "name": "python3"
  },
  "language_info": {
   "codemirror_mode": {
    "name": "ipython",
    "version": 3
   },
   "file_extension": ".py",
   "mimetype": "text/x-python",
   "name": "python",
   "nbconvert_exporter": "python",
   "pygments_lexer": "ipython3",
   "version": "3.12.7"
  }
 },
 "nbformat": 4,
 "nbformat_minor": 5
}
